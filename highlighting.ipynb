{
 "cells": [
  {
   "cell_type": "code",
   "execution_count": 21,
   "id": "0eb34b07-4dd7-468d-9b9b-3768583c297a",
   "metadata": {},
   "outputs": [],
   "source": [
    "import orjson\n",
    "from elasticsearch import Elasticsearch\n",
    "from pprint import pprint as print\n",
    "\n",
    "# Connect to Elasticsearch\n",
    "es = Elasticsearch(\"http://localhost:9200\")"
   ]
  },
  {
   "cell_type": "code",
   "execution_count": 29,
   "id": "cdb0e591-8a52-44fd-a0bc-5c303a7a8ac1",
   "metadata": {},
   "outputs": [],
   "source": [
    "def show_highlights(response):\n",
    "    for hit in response[\"hits\"][\"hits\"]:\n",
    "        print(f\"ID: {hit['_id']}\")\n",
    "        if \"highlight\" in hit:\n",
    "            print(hit[\"highlight\"])\n",
    "\n",
    "def show_hits(response):\n",
    "    for hit in response[\"hits\"][\"hits\"]:\n",
    "        print(hit)"
   ]
  },
  {
   "cell_type": "code",
   "execution_count": 32,
   "id": "4485b3b8-d33b-4d6f-9b0b-43988700c988",
   "metadata": {},
   "outputs": [
    {
     "name": "stdout",
     "output_type": "stream",
     "text": [
      "'ID: c9a240dfea85a8fd238c9666d268a08f064ee176'\n",
      "{'properties.bodyHtml': ['\" placeholder=\"<em>Search</em> <em>Wikipedia</em>\" '\n",
      "                         'title=\"<em>Search</em> <em>Wikipedia</em> [f]\" '\n",
      "                         'accesskey=\"f\" id=\"searchInput\"/><input',\n",
      "                         '\" title=\"<em>Search</em> <em>Wikipedia</em> for this '\n",
      "                         'text\" id=\"mw-searchButton\" class=\"searchButton '\n",
      "                         'mw-fallbackSearchButton',\n",
      "                         '=\"/w/index.php\" id=\"searchform\">\\n'\n",
      "                         '\\t\\t\\t\\t\\t\\t\\t<div id=\"simpleSearch\">\\n'\n",
      "                         '\\t\\t\\t\\t\\t\\t\\t<input type=\"<em>search</em>\" '\n",
      "                         'name=\"<em>search</em>',\n",
      "                         '\" role=\"<em>search</em>\">\\n'\n",
      "                         '\\t\\t\\t\\t\\t\\t<h3>\\n'\n",
      "                         '\\t\\t\\t\\t\\t\\t\\t<label '\n",
      "                         'for=\"searchInput\"><em>Search</em></label>\\n'\n",
      "                         '\\t\\t\\t\\t\\t\\t</h3>\\n'\n",
      "                         '\\n'\n",
      "                         '\\t\\t\\t\\t\\t\\t<form action',\n",
      "                         '</a></li><li id=\"n-shoplink\"><a '\n",
      "                         'href=\"//shop.wikimedia.org\" title=\"Visit the '\n",
      "                         '<em>Wikipedia</em> store\"><em>Wikipedia</em>']}\n"
     ]
    }
   ],
   "source": [
    "response = es.search(\n",
    "    index=\"*\",\n",
    "    body={\n",
    "        \"_source\": {\n",
    "            \"excludes\": [\"*\"]\n",
    "        },\n",
    "        \"query\": {\n",
    "            \"query_string\": {\n",
    "                \"query\": \"'search wikipedia'\",\n",
    "                \"default_operator\": \"AND\",\n",
    "                \"minimum_should_match\": \"66%\"\n",
    "            },\n",
    "        },\n",
    "        \"highlight\": {\n",
    "            \"max_analyzed_offset\": 1_000_000 - 1,\n",
    "            \"order\": \"score\",\n",
    "            \"fields\": {\n",
    "                \"properties.*\": {\n",
    "                    #\"type\": \"annotated\",\n",
    "                    \"highlight_query\": {\n",
    "                        \"query_string\" : {\n",
    "                            \"query\": \"'search wikipedia'\",\n",
    "                            \"default_operator\": \"AND\",\n",
    "                            \"minimum_should_match\": \"66%\"\n",
    "                        },\n",
    "                    },\n",
    "                    \"require_field_match\": False\n",
    "                }\n",
    "            }\n",
    "        }\n",
    "    }\n",
    ")\n",
    "show_highlights(response)"
   ]
  },
  {
   "cell_type": "code",
   "execution_count": 26,
   "id": "65d3c026-46a9-421a-be9b-1fa5ab37f015",
   "metadata": {},
   "outputs": [],
   "source": [
    "show_hits(response)"
   ]
  },
  {
   "cell_type": "code",
   "execution_count": null,
   "id": "8ea096a4-d133-4526-af76-5076edeb477e",
   "metadata": {},
   "outputs": [],
   "source": []
  }
 ],
 "metadata": {
  "kernelspec": {
   "display_name": "Python 3 (ipykernel)",
   "language": "python",
   "name": "python3"
  },
  "language_info": {
   "codemirror_mode": {
    "name": "ipython",
    "version": 3
   },
   "file_extension": ".py",
   "mimetype": "text/x-python",
   "name": "python",
   "nbconvert_exporter": "python",
   "pygments_lexer": "ipython3",
   "version": "3.13.5"
  }
 },
 "nbformat": 4,
 "nbformat_minor": 5
}
